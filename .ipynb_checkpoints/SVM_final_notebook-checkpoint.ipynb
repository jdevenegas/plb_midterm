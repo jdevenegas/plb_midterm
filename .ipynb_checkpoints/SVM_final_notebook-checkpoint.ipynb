{
 "cells": [
  {
   "cell_type": "markdown",
   "metadata": {},
   "source": [
    "**README** <br>\n",
    "In order to run the following notebook, please clone the repository located at https://github.com/jdevenegas/plb_midterm. Navigate to this folder on your machine in order to run the following. <br>\n",
    "***Important note:*** This script was written for Mac OSX, and may not be compatible with Windows. Before publication we would work to ensure that it works on both Mac and Windows, but lacked the necessary time for troubleshooting before the midterm was due. "
   ]
  },
  {
   "cell_type": "markdown",
   "metadata": {},
   "source": [
    "**1. Formatting csv to test pipeline on easily differentiable species** <br>\n",
    "All other datasets used in this noebook are formatted and exported in dataWrangle.ipynb and are included, as well as the following, in the plb_midterm repository. Code is provided to facilitate clarity in our method, but need not be run. Original code was run in notebook called dataWrangleSVM.ipynb (also included in repository), but included here for clarity."
   ]
  },
  {
   "cell_type": "code",
   "execution_count": null,
   "metadata": {},
   "outputs": [],
   "source": [
    "import pandas as pd"
   ]
  },
  {
   "cell_type": "code",
   "execution_count": null,
   "metadata": {},
   "outputs": [],
   "source": [
    "# make dataset with just rupestris and riparia\n",
    "species = pd.read_csv('species_noOutgroupOrHybrids_prediction_dataset.csv')\n",
    "species.head()"
   ]
  },
  {
   "cell_type": "code",
   "execution_count": null,
   "metadata": {},
   "outputs": [],
   "source": [
    "# drop everything but rupestris and riparia\n",
    "for index,row in species.iterrows():\n",
    "    if row['Class'] != 'Vitis_rupestris' and row['Class'] != 'Vitis_riparia':\n",
    "        species.drop(labels=index,axis=0,inplace=True)\n",
    "species.head()"
   ]
  },
  {
   "cell_type": "code",
   "execution_count": null,
   "metadata": {},
   "outputs": [],
   "source": [
    "# write out the file \n",
    "species.to_csv('species_RupRip_prediction.csv',index=False)"
   ]
  },
  {
   "cell_type": "markdown",
   "metadata": {},
   "source": [
    "**2. Using SVM to predict species based on x-y coordinates** <br>\n",
    "Shiu Lab's ML-pipeline is used in this script. In order to be able to run the following, please navigate to https://github.com/ShiuLab/ML-Pipeline and follow the instructions in the readme in order to set up the correct environment to run the pipeline. Then clone the pipeline to your machine. <br>\n",
    "The pipeline entails two steps as we ran it. First, we created a testing subset of 10% of the data, using the script test_set.py. We then ran ML_correlation.py in order to train our model. <br>\n",
    "\n",
    "*Note:* the file structure for the following is: one folder called GitHub, which contains both ML-Pipeline and plb_midterm. Please be sure to check that the file paths are correct for your machine and for wherever you cloned the repositories. "
   ]
  },
  {
   "cell_type": "markdown",
   "metadata": {},
   "source": [
    "**2A. Predicting Species** <br>\n",
    "Species were predicted in the following way: <br>\n",
    "(i) Just *V. rupestris* and *V. riparia* were predicted, in order to test whether x-y coordinates would be good features. *rupestris* and *riparia* are the most morphologically distinct species, and we hypothesized that there would be good separation <br>\n",
    "(ii) Just *Vitis* core species, no hybrids or *Ampelopsis* outgroup <br>\n",
    "(iii) Just *Vitis* core and *Ampelopsis* outgroup, still no hybrids <br>\n",
    "(iv) All species"
   ]
  },
  {
   "cell_type": "code",
   "execution_count": 3,
   "metadata": {},
   "outputs": [
    {
     "name": "stdout",
     "output_type": "stream",
     "text": [
      "Holding out 10.0 percent\n",
      "Pulling test set from classes: ['Vitis_riparia' 'Vitis_rupestris']\n",
      "257 instances in test set\n",
      "finished!\n"
     ]
    }
   ],
   "source": [
    "# (i) rupestris and riparia\n",
    "# create test set \n",
    "!python ~/GitHub/ML-Pipeline/test_set.py -df species_RupRip_prediction.csv -type c -p 0.1 -save RupRip_test_instances.csv -sep ','"
   ]
  },
  {
   "cell_type": "code",
   "execution_count": 4,
   "metadata": {},
   "outputs": [
    {
     "name": "stdout",
     "output_type": "stream",
     "text": [
      "Removing test instances to apply model on later...\n",
      "Snapshot of data being used:\n",
      "                  Class        x1        y1        x2        y2\n",
      "Instance                                                       \n",
      "2         Vitis_riparia  0.306808  0.799709  0.397394  0.774340\n",
      "5         Vitis_riparia  0.366655  0.452072  0.448257  0.443414\n",
      "6         Vitis_riparia  0.378910  0.649807  0.443035  0.646330\n",
      "7         Vitis_riparia  0.302437  0.653963  0.377223  0.683326\n",
      "8         Vitis_riparia  0.374232  0.677398  0.452144  0.662857\n",
      "\n",
      "\n",
      "CLASSES: ['Vitis_riparia' 'Vitis_rupestris']\n",
      "POS: Vitis_riparia type:  <class 'str'>\n",
      "NEG: Vitis_rupestris type:  <class 'str'>\n",
      "\n",
      "Balanced dataset will have 542 instances of each class\n",
      "\n",
      "\n",
      "===>  Grid search started  <===\n",
      "Round 1 of 10\n",
      "Round 2 of 10\n",
      "Round 3 of 10\n",
      "Round 4 of 10\n",
      "Round 5 of 10\n",
      "Round 6 of 10\n",
      "Round 7 of 10\n",
      "Round 8 of 10\n",
      "Round 9 of 10\n",
      "Round 10 of 10\n",
      "Parameter sweep time: 67.771247 seconds\n",
      "Parameters selected: Kernel=Linear, C=10.0\n",
      "Grid search done. Time: 68.507801 s\n",
      "\n",
      "\n",
      "===>  ML Pipeline started  <===\n",
      "  Round 1 of 100\n",
      "  Round 2 of 100\n",
      "  Round 3 of 100\n",
      "  Round 4 of 100\n",
      "  Round 5 of 100\n",
      "  Round 6 of 100\n",
      "  Round 7 of 100\n",
      "  Round 8 of 100\n",
      "  Round 9 of 100\n",
      "  Round 10 of 100\n",
      "  Round 11 of 100\n",
      "  Round 12 of 100\n",
      "  Round 13 of 100\n",
      "  Round 14 of 100\n",
      "  Round 15 of 100\n",
      "  Round 16 of 100\n",
      "  Round 17 of 100\n",
      "  Round 18 of 100\n",
      "  Round 19 of 100\n",
      "  Round 20 of 100\n",
      "  Round 21 of 100\n",
      "  Round 22 of 100\n",
      "  Round 23 of 100\n",
      "  Round 24 of 100\n",
      "  Round 25 of 100\n",
      "  Round 26 of 100\n",
      "  Round 27 of 100\n",
      "  Round 28 of 100\n",
      "  Round 29 of 100\n",
      "  Round 30 of 100\n",
      "  Round 31 of 100\n",
      "  Round 32 of 100\n",
      "  Round 33 of 100\n",
      "  Round 34 of 100\n",
      "  Round 35 of 100\n",
      "  Round 36 of 100\n",
      "  Round 37 of 100\n",
      "  Round 38 of 100\n",
      "  Round 39 of 100\n",
      "  Round 40 of 100\n",
      "  Round 41 of 100\n",
      "  Round 42 of 100\n",
      "  Round 43 of 100\n",
      "  Round 44 of 100\n",
      "  Round 45 of 100\n",
      "  Round 46 of 100\n",
      "  Round 47 of 100\n",
      "  Round 48 of 100\n",
      "  Round 49 of 100\n",
      "  Round 50 of 100\n",
      "  Round 51 of 100\n",
      "  Round 52 of 100\n",
      "  Round 53 of 100\n",
      "  Round 54 of 100\n",
      "  Round 55 of 100\n",
      "  Round 56 of 100\n",
      "  Round 57 of 100\n",
      "  Round 58 of 100\n",
      "  Round 59 of 100\n",
      "  Round 60 of 100\n",
      "  Round 61 of 100\n",
      "  Round 62 of 100\n",
      "  Round 63 of 100\n",
      "  Round 64 of 100\n",
      "  Round 65 of 100\n",
      "  Round 66 of 100\n",
      "  Round 67 of 100\n",
      "  Round 68 of 100\n",
      "  Round 69 of 100\n",
      "  Round 70 of 100\n",
      "  Round 71 of 100\n",
      "  Round 72 of 100\n",
      "  Round 73 of 100\n",
      "  Round 74 of 100\n",
      "  Round 75 of 100\n",
      "  Round 76 of 100\n",
      "  Round 77 of 100\n",
      "  Round 78 of 100\n",
      "  Round 79 of 100\n",
      "  Round 80 of 100\n",
      "  Round 81 of 100\n",
      "  Round 82 of 100\n",
      "  Round 83 of 100\n",
      "  Round 84 of 100\n",
      "  Round 85 of 100\n",
      "  Round 86 of 100\n",
      "  Round 87 of 100\n",
      "  Round 88 of 100\n",
      "  Round 89 of 100\n",
      "  Round 90 of 100\n",
      "  Round 91 of 100\n",
      "  Round 92 of 100\n",
      "  Round 93 of 100\n",
      "  Round 94 of 100\n",
      "  Round 95 of 100\n",
      "  Round 96 of 100\n",
      "  Round 97 of 100\n",
      "  Round 98 of 100\n",
      "  Round 99 of 100\n",
      "  Round 100 of 100\n",
      "ML Pipeline time: 567.363013 seconds\n",
      "\n",
      "\n",
      "===>  ML Results  <===\n",
      "\n",
      "Validation Set Scores\n",
      "Accuracy: 0.882140 (+/- stdev 0.007462)\n",
      "F1: 0.882656 (+/- stdev 0.007490)\n",
      "AUC-ROC: 0.943371 (+/- stdev 0.004568)\n",
      "AUC-PRC: 0.945632 (+/- stdev 0.003964)\n",
      "\n",
      "\n",
      "Test Set Scores:\n",
      "Precision: 0.849192\n",
      "Accuracy: 0.858856\n",
      "F1: 0.860783\n",
      "AUC-ROC: 0.942719 (+/- stdev 0.003154)\n",
      "AUC-PRC: 0.978670 (+/- stdev 0.001949)\n",
      "finished!\n"
     ]
    }
   ],
   "source": [
    "# run model\n",
    "!python  /Users/SLotreck/GitHub/ML-Pipeline/ML_classification.py -df species_RupRip_prediction.csv -test RupRip_test_instances.csv -cl_train Vitis_riparia,Vitis_rupestris -alg SVM -sep ','"
   ]
  },
  {
   "cell_type": "code",
   "execution_count": 5,
   "metadata": {},
   "outputs": [
    {
     "name": "stdout",
     "output_type": "stream",
     "text": [
      "Holding out 10.0 percent\n",
      "Pulling test set from classes: ['Vitis_acerifolia' 'Vitis_aestivalis' 'Vitis_riparia' 'Vitis_vulpina'\n",
      " 'Vitis_coignetiae' 'Vitis_labrusca' 'Vitis_cinerea' 'Vitis_rupestris'\n",
      " 'Vitis_sp' 'Vitis_amurensis' 'Vitis_palmata']\n",
      "559 instances in test set\n",
      "finished!\n"
     ]
    }
   ],
   "source": [
    "# (ii) Vitis core \n",
    "# create test set \n",
    "!python ~/GitHub/ML-Pipeline/test_set.py -df species_noOutgroupOrHybrids_prediction_dataset.csv -type c -p 0.1 -save Vitis_core_test_instances.csv -sep ','"
   ]
  },
  {
   "cell_type": "code",
   "execution_count": null,
   "metadata": {},
   "outputs": [
    {
     "name": "stdout",
     "output_type": "stream",
     "text": [
      "Removing test instances to apply model on later...\n",
      "Snapshot of data being used:\n",
      "                     Class        x1        y1        x2        y2\n",
      "Instance                                                          \n",
      "0         Vitis_acerifolia  0.395183  0.464763  0.462163  0.483590\n",
      "1         Vitis_aestivalis  0.461953  0.676650  0.535271  0.714615\n",
      "2            Vitis_riparia  0.404128  0.770275  0.471012  0.774340\n",
      "3         Vitis_acerifolia  0.405337  0.789025  0.469997  0.798167\n",
      "4         Vitis_aestivalis  0.319783  0.584354  0.333134  0.580537\n",
      "\n",
      "\n",
      "CLASSES: ['Vitis_acerifolia' 'Vitis_aestivalis' 'Vitis_amurensis' 'Vitis_cinerea'\n",
      " 'Vitis_coignetiae' 'Vitis_labrusca' 'Vitis_palmata' 'Vitis_riparia'\n",
      " 'Vitis_rupestris' 'Vitis_sp' 'Vitis_vulpina']\n",
      "POS: 1 type:  <class 'int'>\n",
      "NEG: multiclass_no_NEG type:  <class 'str'>\n",
      "\n",
      "Balanced dataset will have 53 instances of each class\n",
      "\n",
      "\n",
      "===>  Grid search started  <===\n",
      "Round 1 of 10\n",
      "Round 2 of 10\n",
      "Round 3 of 10\n",
      "Round 4 of 10\n",
      "Round 5 of 10\n",
      "Round 6 of 10\n",
      "Round 7 of 10\n",
      "Round 8 of 10\n",
      "Round 9 of 10\n",
      "Round 10 of 10\n",
      "Parameter sweep time: 171.625189 seconds\n",
      "Parameters selected: Kernel=Linear, C=10.0\n",
      "Grid search done. Time: 172.210063 s\n",
      "\n",
      "\n",
      "===>  ML Pipeline started  <===\n",
      "  Round 1 of 100\n",
      "  Round 2 of 100\n",
      "  Round 3 of 100\n",
      "  Round 4 of 100\n",
      "  Round 5 of 100\n",
      "  Round 6 of 100\n",
      "  Round 7 of 100\n",
      "  Round 8 of 100\n",
      "  Round 9 of 100\n",
      "  Round 10 of 100\n",
      "  Round 11 of 100\n"
     ]
    }
   ],
   "source": [
    "# run model\n",
    "!python  /Users/SLotreck/GitHub/ML-Pipeline/ML_classification.py -df species_noOutgroupOrHybrids_prediction_dataset.csv -test Vitis_core_test_instances.csv -alg SVM -sep ','"
   ]
  },
  {
   "cell_type": "code",
   "execution_count": null,
   "metadata": {},
   "outputs": [],
   "source": [
    "# (iii) Vitis core and Ampelopsis\n",
    "# create test set \n",
    "!python ~/GitHub/ML-Pipeline/test_set.py -df species_noHybrids_prediction_dataset.csv -type c -p 0.1 -save Vitis_core_and_ampelopsis_test_instances.csv -sep ','"
   ]
  },
  {
   "cell_type": "code",
   "execution_count": null,
   "metadata": {},
   "outputs": [],
   "source": [
    "# run model\n",
    "!python  ~/GitHub/ML-Pipeline/ML_classification.py -df species_noHybrids_prediction_dataset.csv -test Vitis_core_and_ampelopsis_test_instances.csv -alg SVM -sep ','"
   ]
  },
  {
   "cell_type": "code",
   "execution_count": null,
   "metadata": {},
   "outputs": [],
   "source": [
    "# (iv) All species\n",
    "# create test set \n",
    "!python ~/GitHub/ML-Pipeline/test_set.py -df species_prediction_dataset.csv -type c -p 0.1 -save All_species_test_instances.csv -sep ','"
   ]
  },
  {
   "cell_type": "code",
   "execution_count": null,
   "metadata": {},
   "outputs": [],
   "source": [
    "# run model\n",
    "!python ~/GitHub/ML-Pipeline/ML_classification.py -df species_prediction_dataset.csv -test All_species_test_instances.csv -alg SVM -sep ','"
   ]
  },
  {
   "cell_type": "markdown",
   "metadata": {},
   "source": [
    "**2B. Predicting year**"
   ]
  },
  {
   "cell_type": "code",
   "execution_count": null,
   "metadata": {},
   "outputs": [],
   "source": [
    "# create test set \n",
    "!python ~GitHub/ML-Pipeline/test_set.py -df year_prediction_dataset.csv -type C -p 0.1 -save year_test_instances.csv -sep ','"
   ]
  },
  {
   "cell_type": "code",
   "execution_count": null,
   "metadata": {},
   "outputs": [],
   "source": [
    "# run model \n",
    "!python ~/GitHub/ML-Pipeline/test_set.py -df year_prediction_dataset.csv -test year_test_instances.csv -alg SVM -sep ','"
   ]
  },
  {
   "cell_type": "markdown",
   "metadata": {},
   "source": [
    "**2C. Predicting node counted from base**"
   ]
  },
  {
   "cell_type": "code",
   "execution_count": null,
   "metadata": {},
   "outputs": [],
   "source": [
    "# create test set \n",
    "!python ~GitHub/ML-Pipeline/test_set.py -df node_from_base_prediction_dataset.csv -type C -p 0.1 -save node_from_base_test_instances.csv -sep ','"
   ]
  },
  {
   "cell_type": "code",
   "execution_count": null,
   "metadata": {},
   "outputs": [],
   "source": [
    "# run model \n",
    "!python ~/GitHub/ML-Pipeline/test_set.py -df node_from_base_prediction_dataset.csv -test node_from_base_test_instances.csv -alg SVM -sep ','"
   ]
  },
  {
   "cell_type": "markdown",
   "metadata": {},
   "source": [
    "**2D. Predicting node counted from tip**"
   ]
  },
  {
   "cell_type": "code",
   "execution_count": null,
   "metadata": {},
   "outputs": [],
   "source": [
    "# create test set \n",
    "!python ~GitHub/ML-Pipeline/test_set.py -df node_from_tip_prediction_dataset.csv -type C -p 0.1 -save node_from_tip_test_instances.csv -sep ','"
   ]
  },
  {
   "cell_type": "code",
   "execution_count": null,
   "metadata": {},
   "outputs": [],
   "source": [
    "# run model \n",
    "!python ~/GitHub/ML-Pipeline/test_set.py -df node_from_tip_prediction_dataset.csv -test node_from_tip_test_instances.csv -alg SVM -sep ','"
   ]
  }
 ],
 "metadata": {
  "kernelspec": {
   "display_name": "Python 3",
   "language": "python",
   "name": "python3"
  },
  "language_info": {
   "codemirror_mode": {
    "name": "ipython",
    "version": 3
   },
   "file_extension": ".py",
   "mimetype": "text/x-python",
   "name": "python",
   "nbconvert_exporter": "python",
   "pygments_lexer": "ipython3",
   "version": "3.7.4"
  }
 },
 "nbformat": 4,
 "nbformat_minor": 4
}
